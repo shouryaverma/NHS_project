{
 "cells": [
  {
   "cell_type": "code",
   "execution_count": 1,
   "metadata": {},
   "outputs": [],
   "source": [
    "import glob\n",
    "import numpy as np\n",
    "import pandas as pd\n",
    "import json\n",
    "import datetime\n",
    "import pymongo\n",
    "import sys\n",
    "from pymongo import MongoClient"
   ]
  },
  {
   "cell_type": "code",
   "execution_count": 2,
   "metadata": {},
   "outputs": [],
   "source": [
    "def export_content():\n",
    "    date = datetime.datetime.now()\n",
    "    date = str(date)[:-16]\n",
    "    client = MongoClient('mongodb://localhost:27017/')\n",
    "    db = client['GJNHS_database']\n",
    "    collection = db['patients']\n",
    "    cursor = collection.find()\n",
    "    docs = list(cursor)\n",
    "    df = pd.DataFrame(docs)\n",
    "    if df.empty == False:\n",
    "        df = df.drop(df.columns[0],axis=1)\n",
    "        df.to_csv('./exported_csv.csv',index=False)\n",
    "        df.to_csv('./exporthistory/exported_csv_'+date+'.csv',index=False)\n",
    "        print('Content imported from MongoDB as CSV')\n",
    "        print('Content ready to update')\n",
    "        return(df)\n",
    "    else:\n",
    "        print('MongoDB database is empty. No data exported.')\n",
    "        return(df)\n",
    "    \n",
    "def update_content(df_mongo,df_new):\n",
    "    if df_mongo.empty==False and df_new.empty==False:\n",
    "        df = df_new[df_new['CHI'].isin(df_mongo['CHI']) == False]\n",
    "        if df.empty==False:\n",
    "            print('CSV updated with new patient CHI number, ready To import on mongoDB')\n",
    "            return(df)\n",
    "        else:\n",
    "            print('No new CHI number detected, MongoDB up to date')\n",
    "            return(df)\n",
    "    else:\n",
    "        return(print('Dataframe was empty'))\n",
    "\n",
    "def import_new_content(df,df_new):\n",
    "    client = MongoClient('mongodb://localhost:27017/')\n",
    "    db = client['GJNHS_database']\n",
    "    collection = db['patients']\n",
    "    data = df\n",
    "    try:\n",
    "        if data.empty==False:\n",
    "            collection.insert_many(data.to_dict('records'))\n",
    "            return(print('Updated CSV imported on MongoDB'))\n",
    "    except:\n",
    "        return(print('No new patient found for update'))\n",
    "    finally:\n",
    "        try:\n",
    "            if df_new.empty==False:\n",
    "                collection.insert_many(df_new.to_dict('records'))\n",
    "                return(print('CSV with new patients imported to MongoDB'))\n",
    "        except:\n",
    "            return(print('No new patient found, CSV not imported to Mongodb'))"
   ]
  },
  {
   "cell_type": "code",
   "execution_count": 3,
   "metadata": {},
   "outputs": [],
   "source": [
    "df_new = pd.read_csv('./extracted_data.csv',parse_dates=['Clinic Date'])"
   ]
  },
  {
   "cell_type": "code",
   "execution_count": 4,
   "metadata": {},
   "outputs": [
    {
     "name": "stdout",
     "output_type": "stream",
     "text": [
      "Content imported from MongoDB as CSV\n",
      "Content ready to update\n",
      "No new CHI number detected, MongoDB up to date\n",
      "No new patient found, CSV not imported to Mongodb\n"
     ]
    }
   ],
   "source": [
    "df_mongo = export_content()\n",
    "df = update_content(df_mongo,df_new)\n",
    "import_new_content(df,df_new)"
   ]
  },
  {
   "cell_type": "code",
   "execution_count": null,
   "metadata": {},
   "outputs": [],
   "source": []
  }
 ],
 "metadata": {
  "kernelspec": {
   "display_name": "Python 3",
   "language": "python",
   "name": "python3"
  },
  "language_info": {
   "codemirror_mode": {
    "name": "ipython",
    "version": 3
   },
   "file_extension": ".py",
   "mimetype": "text/x-python",
   "name": "python",
   "nbconvert_exporter": "python",
   "pygments_lexer": "ipython3",
   "version": "3.9.6"
  }
 },
 "nbformat": 4,
 "nbformat_minor": 4
}

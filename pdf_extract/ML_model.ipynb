{
 "cells": [
  {
   "cell_type": "code",
   "execution_count": 196,
   "id": "95647fd5",
   "metadata": {},
   "outputs": [],
   "source": [
    "import matplotlib.pyplot as plt\n",
    "import keras\n",
    "import numpy as np\n",
    "import pandas as pd\n",
    "import matplotlib\n",
    "import glob\n",
    "from sklearn.model_selection import train_test_split\n",
    "import os\n",
    "import numpy as np\n",
    "import tensorflow as tf\n",
    "from tensorflow.keras import preprocessing, layers, losses\n",
    "from tensorflow.keras.layers.experimental.preprocessing import TextVectorization"
   ]
  },
  {
   "cell_type": "code",
   "execution_count": 197,
   "id": "63157e95",
   "metadata": {},
   "outputs": [],
   "source": [
    "df = pd.read_csv('./mortality_data.csv',parse_dates=['Clinic Date'])"
   ]
  },
  {
   "cell_type": "code",
   "execution_count": 198,
   "id": "64eab277",
   "metadata": {},
   "outputs": [
    {
     "data": {
      "text/html": [
       "<div>\n",
       "<style scoped>\n",
       "    .dataframe tbody tr th:only-of-type {\n",
       "        vertical-align: middle;\n",
       "    }\n",
       "\n",
       "    .dataframe tbody tr th {\n",
       "        vertical-align: top;\n",
       "    }\n",
       "\n",
       "    .dataframe thead th {\n",
       "        text-align: right;\n",
       "    }\n",
       "</style>\n",
       "<table border=\"1\" class=\"dataframe\">\n",
       "  <thead>\n",
       "    <tr style=\"text-align: right;\">\n",
       "      <th></th>\n",
       "      <th>CHI</th>\n",
       "      <th>Diagnosis</th>\n",
       "      <th>Intervention</th>\n",
       "      <th>Medication</th>\n",
       "      <th>Clinic Date</th>\n",
       "      <th>Health Board</th>\n",
       "      <th>Gender</th>\n",
       "      <th>Mortality</th>\n",
       "    </tr>\n",
       "  </thead>\n",
       "  <tbody>\n",
       "    <tr>\n",
       "      <th>0</th>\n",
       "      <td>1234561</td>\n",
       "      <td>congenital mitral stenosis suspected aortic co...</td>\n",
       "      <td>surgical mitral valvotomy - 1999 electrical ca...</td>\n",
       "      <td>bisoprolol 5mg od, lisinopril 4mg od, warfarin...</td>\n",
       "      <td>2001-01-01</td>\n",
       "      <td>lanarkshire</td>\n",
       "      <td>M</td>\n",
       "      <td>0</td>\n",
       "    </tr>\n",
       "    <tr>\n",
       "      <th>1</th>\n",
       "      <td>2234562</td>\n",
       "      <td>moderately impaired dominant lv systolic funct...</td>\n",
       "      <td>pulmonary artery band 1997 bidirectional glenn...</td>\n",
       "      <td>warfarin thyroxine candesartan 20mg daily fluo...</td>\n",
       "      <td>2002-02-02</td>\n",
       "      <td>fife</td>\n",
       "      <td>M</td>\n",
       "      <td>1</td>\n",
       "    </tr>\n",
       "    <tr>\n",
       "      <th>2</th>\n",
       "      <td>3234563</td>\n",
       "      <td>previous persistent atrial tachycardia termina...</td>\n",
       "      <td>modified right bt shunt, 3999 modified left bt...</td>\n",
       "      <td>warfarin, bisopropol 2mg od, levothyroxine 300...</td>\n",
       "      <td>2003-03-03</td>\n",
       "      <td>grampian</td>\n",
       "      <td>F</td>\n",
       "      <td>1</td>\n",
       "    </tr>\n",
       "    <tr>\n",
       "      <th>3</th>\n",
       "      <td>4244564</td>\n",
       "      <td>loeys-dietz syndrome tgfb ii variant dilated a...</td>\n",
       "      <td>None</td>\n",
       "      <td>losartan 15mg od increased today to 25mg od</td>\n",
       "      <td>2004-04-04</td>\n",
       "      <td>dumfries and galloway</td>\n",
       "      <td>F</td>\n",
       "      <td>0</td>\n",
       "    </tr>\n",
       "    <tr>\n",
       "      <th>4</th>\n",
       "      <td>5254565</td>\n",
       "      <td>coarctation of aorta patent ductus arteriosus ...</td>\n",
       "      <td>surgical repair of coarctation of the aorta &amp; ...</td>\n",
       "      <td>atorvastatin 40mgs od, cabdesartan 8mgs od, ch...</td>\n",
       "      <td>2005-05-05</td>\n",
       "      <td>highland</td>\n",
       "      <td>F</td>\n",
       "      <td>1</td>\n",
       "    </tr>\n",
       "    <tr>\n",
       "      <th>5</th>\n",
       "      <td>6634566</td>\n",
       "      <td>presentation with sustained vt, non-inducible ...</td>\n",
       "      <td>probable surgical vsd closure age 3 years</td>\n",
       "      <td>bisoprolol 5mg daily</td>\n",
       "      <td>2006-06-06</td>\n",
       "      <td>ayrshire and arran</td>\n",
       "      <td>M</td>\n",
       "      <td>0</td>\n",
       "    </tr>\n",
       "  </tbody>\n",
       "</table>\n",
       "</div>"
      ],
      "text/plain": [
       "       CHI                                          Diagnosis  \\\n",
       "0  1234561  congenital mitral stenosis suspected aortic co...   \n",
       "1  2234562  moderately impaired dominant lv systolic funct...   \n",
       "2  3234563  previous persistent atrial tachycardia termina...   \n",
       "3  4244564  loeys-dietz syndrome tgfb ii variant dilated a...   \n",
       "4  5254565  coarctation of aorta patent ductus arteriosus ...   \n",
       "5  6634566  presentation with sustained vt, non-inducible ...   \n",
       "\n",
       "                                        Intervention  \\\n",
       "0  surgical mitral valvotomy - 1999 electrical ca...   \n",
       "1  pulmonary artery band 1997 bidirectional glenn...   \n",
       "2  modified right bt shunt, 3999 modified left bt...   \n",
       "3                                               None   \n",
       "4  surgical repair of coarctation of the aorta & ...   \n",
       "5          probable surgical vsd closure age 3 years   \n",
       "\n",
       "                                          Medication Clinic Date  \\\n",
       "0  bisoprolol 5mg od, lisinopril 4mg od, warfarin...  2001-01-01   \n",
       "1  warfarin thyroxine candesartan 20mg daily fluo...  2002-02-02   \n",
       "2  warfarin, bisopropol 2mg od, levothyroxine 300...  2003-03-03   \n",
       "3        losartan 15mg od increased today to 25mg od  2004-04-04   \n",
       "4  atorvastatin 40mgs od, cabdesartan 8mgs od, ch...  2005-05-05   \n",
       "5                               bisoprolol 5mg daily  2006-06-06   \n",
       "\n",
       "            Health Board Gender  Mortality  \n",
       "0            lanarkshire      M          0  \n",
       "1                   fife      M          1  \n",
       "2               grampian      F          1  \n",
       "3  dumfries and galloway      F          0  \n",
       "4               highland      F          1  \n",
       "5     ayrshire and arran      M          0  "
      ]
     },
     "execution_count": 198,
     "metadata": {},
     "output_type": "execute_result"
    }
   ],
   "source": [
    "df"
   ]
  },
  {
   "cell_type": "code",
   "execution_count": 199,
   "id": "ec985a7e",
   "metadata": {},
   "outputs": [],
   "source": [
    "df_new = df[['Diagnosis', 'Intervention', 'Medication', 'Mortality']].copy()"
   ]
  },
  {
   "cell_type": "code",
   "execution_count": 234,
   "id": "d1e1b564",
   "metadata": {},
   "outputs": [
    {
     "data": {
      "text/html": [
       "<div>\n",
       "<style scoped>\n",
       "    .dataframe tbody tr th:only-of-type {\n",
       "        vertical-align: middle;\n",
       "    }\n",
       "\n",
       "    .dataframe tbody tr th {\n",
       "        vertical-align: top;\n",
       "    }\n",
       "\n",
       "    .dataframe thead th {\n",
       "        text-align: right;\n",
       "    }\n",
       "</style>\n",
       "<table border=\"1\" class=\"dataframe\">\n",
       "  <thead>\n",
       "    <tr style=\"text-align: right;\">\n",
       "      <th></th>\n",
       "      <th>Diagnosis</th>\n",
       "      <th>Intervention</th>\n",
       "      <th>Medication</th>\n",
       "      <th>Mortality</th>\n",
       "    </tr>\n",
       "  </thead>\n",
       "  <tbody>\n",
       "    <tr>\n",
       "      <th>0</th>\n",
       "      <td>congenital mitral stenosis suspected aortic co...</td>\n",
       "      <td>surgical mitral valvotomy - 1999 electrical ca...</td>\n",
       "      <td>bisoprolol 5mg od, lisinopril 4mg od, warfarin...</td>\n",
       "      <td>0</td>\n",
       "    </tr>\n",
       "    <tr>\n",
       "      <th>1</th>\n",
       "      <td>moderately impaired dominant lv systolic funct...</td>\n",
       "      <td>pulmonary artery band 1997 bidirectional glenn...</td>\n",
       "      <td>warfarin thyroxine candesartan 20mg daily fluo...</td>\n",
       "      <td>1</td>\n",
       "    </tr>\n",
       "    <tr>\n",
       "      <th>2</th>\n",
       "      <td>previous persistent atrial tachycardia termina...</td>\n",
       "      <td>modified right bt shunt, 3999 modified left bt...</td>\n",
       "      <td>warfarin, bisopropol 2mg od, levothyroxine 300...</td>\n",
       "      <td>1</td>\n",
       "    </tr>\n",
       "    <tr>\n",
       "      <th>3</th>\n",
       "      <td>loeys-dietz syndrome tgfb ii variant dilated a...</td>\n",
       "      <td>None</td>\n",
       "      <td>losartan 15mg od increased today to 25mg od</td>\n",
       "      <td>0</td>\n",
       "    </tr>\n",
       "    <tr>\n",
       "      <th>4</th>\n",
       "      <td>coarctation of aorta patent ductus arteriosus ...</td>\n",
       "      <td>surgical repair of coarctation of the aorta &amp; ...</td>\n",
       "      <td>atorvastatin 40mgs od, cabdesartan 8mgs od, ch...</td>\n",
       "      <td>1</td>\n",
       "    </tr>\n",
       "    <tr>\n",
       "      <th>5</th>\n",
       "      <td>presentation with sustained vt, non-inducible ...</td>\n",
       "      <td>probable surgical vsd closure age 3 years</td>\n",
       "      <td>bisoprolol 5mg daily</td>\n",
       "      <td>0</td>\n",
       "    </tr>\n",
       "  </tbody>\n",
       "</table>\n",
       "</div>"
      ],
      "text/plain": [
       "                                           Diagnosis  \\\n",
       "0  congenital mitral stenosis suspected aortic co...   \n",
       "1  moderately impaired dominant lv systolic funct...   \n",
       "2  previous persistent atrial tachycardia termina...   \n",
       "3  loeys-dietz syndrome tgfb ii variant dilated a...   \n",
       "4  coarctation of aorta patent ductus arteriosus ...   \n",
       "5  presentation with sustained vt, non-inducible ...   \n",
       "\n",
       "                                        Intervention  \\\n",
       "0  surgical mitral valvotomy - 1999 electrical ca...   \n",
       "1  pulmonary artery band 1997 bidirectional glenn...   \n",
       "2  modified right bt shunt, 3999 modified left bt...   \n",
       "3                                               None   \n",
       "4  surgical repair of coarctation of the aorta & ...   \n",
       "5          probable surgical vsd closure age 3 years   \n",
       "\n",
       "                                          Medication  Mortality  \n",
       "0  bisoprolol 5mg od, lisinopril 4mg od, warfarin...          0  \n",
       "1  warfarin thyroxine candesartan 20mg daily fluo...          1  \n",
       "2  warfarin, bisopropol 2mg od, levothyroxine 300...          1  \n",
       "3        losartan 15mg od increased today to 25mg od          0  \n",
       "4  atorvastatin 40mgs od, cabdesartan 8mgs od, ch...          1  \n",
       "5                               bisoprolol 5mg daily          0  "
      ]
     },
     "execution_count": 234,
     "metadata": {},
     "output_type": "execute_result"
    }
   ],
   "source": [
    "df_new"
   ]
  },
  {
   "cell_type": "code",
   "execution_count": 235,
   "id": "c3c81712",
   "metadata": {},
   "outputs": [],
   "source": [
    "# train = df_new.loc[0:3,['Diagnosis','Mortality']].copy()\n",
    "# test = df_new.loc[4:6,['Diagnosis','Mortality']].copy()"
   ]
  },
  {
   "cell_type": "code",
   "execution_count": 254,
   "id": "0a0e1cdf",
   "metadata": {},
   "outputs": [],
   "source": [
    "X = df_new['Diagnosis'].copy()\n",
    "y = df_new['Mortality'].copy()\n",
    "\n",
    "# creating the feature matrix \n",
    "from sklearn.feature_extraction.text import CountVectorizer\n",
    "matrix = CountVectorizer(max_features=1000)\n",
    "X = matrix.fit_transform(X).toarray()\n",
    "\n",
    "X_train, X_test, y_train, y_test = train_test_split(X,y,shuffle=False,test_size=0.1)"
   ]
  },
  {
   "cell_type": "code",
   "execution_count": 255,
   "id": "b4780227",
   "metadata": {},
   "outputs": [
    {
     "name": "stdout",
     "output_type": "stream",
     "text": [
      "Model: \"sequential_26\"\n",
      "_________________________________________________________________\n",
      "Layer (type)                 Output Shape              Param #   \n",
      "=================================================================\n",
      "embedding_10 (Embedding)     (None, None, 16)          160016    \n",
      "_________________________________________________________________\n",
      "dense_45 (Dense)             (None, None, 16)          272       \n",
      "_________________________________________________________________\n",
      "global_average_pooling1d_8 ( (None, 16)                0         \n",
      "_________________________________________________________________\n",
      "dense_46 (Dense)             (None, 8)                 136       \n",
      "_________________________________________________________________\n",
      "dense_47 (Dense)             (None, 1)                 9         \n",
      "=================================================================\n",
      "Total params: 160,433\n",
      "Trainable params: 160,433\n",
      "Non-trainable params: 0\n",
      "_________________________________________________________________\n"
     ]
    }
   ],
   "source": [
    "embedding_dim = 16\n",
    "max_features = 10000\n",
    "sequence_length = 250\n",
    "\n",
    "model = tf.keras.Sequential([\n",
    "  layers.Embedding(max_features + 1, embedding_dim),\n",
    "  layers.Dense(16),\n",
    "  layers.GlobalAveragePooling1D(),\n",
    "  layers.Dense(8),\n",
    "  layers.Dense(1)])\n",
    "model.summary()"
   ]
  },
  {
   "cell_type": "code",
   "execution_count": 256,
   "id": "21628bfc",
   "metadata": {},
   "outputs": [],
   "source": [
    "model.compile(loss=losses.BinaryCrossentropy(),\n",
    "              optimizer='adam',\n",
    "              metrics=['accuracy'])"
   ]
  },
  {
   "cell_type": "code",
   "execution_count": 257,
   "id": "5f2bb4b2",
   "metadata": {},
   "outputs": [
    {
     "name": "stdout",
     "output_type": "stream",
     "text": [
      "Train on 4 samples, validate on 1 samples\n",
      "Epoch 1/10\n",
      "4/4 [==============================] - 0s 108ms/sample - loss: 2.9428 - accuracy: 0.5000 - val_loss: 4.0155 - val_accuracy: 0.0000e+00\n",
      "Epoch 2/10\n",
      "4/4 [==============================] - 0s 3ms/sample - loss: 1.9177 - accuracy: 0.5000 - val_loss: 3.4521 - val_accuracy: 0.0000e+00\n",
      "Epoch 3/10\n",
      "4/4 [==============================] - 0s 4ms/sample - loss: 1.6798 - accuracy: 0.5000 - val_loss: 3.1477 - val_accuracy: 0.0000e+00\n",
      "Epoch 4/10\n",
      "4/4 [==============================] - 0s 4ms/sample - loss: 1.5472 - accuracy: 0.5000 - val_loss: 2.9431 - val_accuracy: 0.0000e+00\n",
      "Epoch 5/10\n",
      "4/4 [==============================] - 0s 5ms/sample - loss: 1.4575 - accuracy: 0.5000 - val_loss: 2.7912 - val_accuracy: 0.0000e+00\n",
      "Epoch 6/10\n",
      "4/4 [==============================] - 0s 4ms/sample - loss: 1.3908 - accuracy: 0.5000 - val_loss: 2.6715 - val_accuracy: 0.0000e+00\n",
      "Epoch 7/10\n",
      "4/4 [==============================] - 0s 4ms/sample - loss: 1.3385 - accuracy: 0.5000 - val_loss: 2.5735 - val_accuracy: 0.0000e+00\n",
      "Epoch 8/10\n",
      "4/4 [==============================] - 0s 3ms/sample - loss: 1.2959 - accuracy: 0.5000 - val_loss: 2.4911 - val_accuracy: 0.0000e+00\n",
      "Epoch 9/10\n",
      "4/4 [==============================] - 0s 4ms/sample - loss: 1.2603 - accuracy: 0.5000 - val_loss: 2.4203 - val_accuracy: 0.0000e+00\n",
      "Epoch 10/10\n",
      "4/4 [==============================] - 0s 4ms/sample - loss: 1.2299 - accuracy: 0.5000 - val_loss: 2.3586 - val_accuracy: 0.0000e+00\n"
     ]
    }
   ],
   "source": [
    "epochs = 10\n",
    "history = model.fit(\n",
    "    X_train,y_train,\n",
    "    validation_split=0.2,\n",
    "    epochs=epochs)"
   ]
  },
  {
   "cell_type": "code",
   "execution_count": 258,
   "id": "646b4cd7",
   "metadata": {},
   "outputs": [
    {
     "name": "stdout",
     "output_type": "stream",
     "text": [
      "Loss:  0.10582298040390015\n",
      "Accuracy:  1.0\n"
     ]
    }
   ],
   "source": [
    "loss, accuracy = model.evaluate(X_test,y_test)\n",
    "\n",
    "print(\"Loss: \", loss)\n",
    "print(\"Accuracy: \", accuracy)"
   ]
  },
  {
   "cell_type": "code",
   "execution_count": 259,
   "id": "d5d09ae3",
   "metadata": {},
   "outputs": [
    {
     "data": {
      "image/png": "[encoded data removed]",
      "text/plain": [
       "<Figure size 432x288 with 1 Axes>"
      ]
     },
     "metadata": {
      "needs_background": "light"
     },
     "output_type": "display_data"
    },
    {
     "data": {
      "image/png": "[encoded data removed]",
      "text/plain": [
       "<Figure size 432x288 with 1 Axes>"
      ]
     },
     "metadata": {
      "needs_background": "light"
     },
     "output_type": "display_data"
    }
   ],
   "source": [
    "history_dict = history.history\n",
    "history_dict.keys()\n",
    "\n",
    "acc = history_dict['accuracy']\n",
    "val_acc = history_dict['val_accuracy']\n",
    "loss = history_dict['loss']\n",
    "val_loss = history_dict['val_loss']\n",
    "\n",
    "epochs = range(1, len(acc) + 1)\n",
    "\n",
    "# \"bo\" is for \"blue dot\"\n",
    "plt.plot(epochs, loss, 'bo', label='Training loss')\n",
    "# b is for \"solid blue line\"\n",
    "plt.plot(epochs, val_loss, 'b', label='Validation loss')\n",
    "plt.title('Training and validation loss')\n",
    "plt.xlabel('Epochs')\n",
    "plt.ylabel('Loss')\n",
    "plt.legend()\n",
    "\n",
    "plt.show()\n",
    "\n",
    "plt.plot(epochs, acc, 'bo', label='Training acc')\n",
    "plt.plot(epochs, val_acc, 'b', label='Validation acc')\n",
    "plt.title('Training and validation accuracy')\n",
    "plt.xlabel('Epochs')\n",
    "plt.ylabel('Accuracy')\n",
    "plt.legend(loc='lower right')\n",
    "\n",
    "plt.show()"
   ]
  },
  {
   "cell_type": "code",
   "execution_count": null,
   "id": "075307f7",
   "metadata": {},
   "outputs": [],
   "source": []
  }
 ],
 "metadata": {
  "kernelspec": {
   "display_name": "Python 3",
   "language": "python",
   "name": "python3"
  },
  "language_info": {
   "codemirror_mode": {
    "name": "ipython",
    "version": 3
   },
   "file_extension": ".py",
   "mimetype": "text/x-python",
   "name": "python",
   "nbconvert_exporter": "python",
   "pygments_lexer": "ipython3",
   "version": "3.9.6"
  }
 },
 "nbformat": 4,
 "nbformat_minor": 5
}
